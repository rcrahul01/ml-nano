{
 "cells": [
  {
   "cell_type": "markdown",
   "metadata": {},
   "source": [
    "# Machine Learning Engineer Nanodegree -Quora question pairs\n",
    "## Capstone Project\n",
    "\n"
   ]
  },
  {
   "cell_type": "markdown",
   "metadata": {},
   "source": [
    "## I. Definition\n",
    "\n",
    "### Project Overview\n",
    "\n",
    "Over 100 million people visit Quora every month, so it's no surprise that many people ask similarly worded questions. Multiple questions with the same intent can cause seekers to spend more time finding the best answer to their question, and make writers feel they need to answer multiple versions of the same question. Quora values canonical questions because they provide a better experience to active seekers and writers, and offer more value to both groups in the long term. Ideally, these duplicate questions would be merged together into a single canonical question, as doing so would provide several benefits: \n",
    "• It saves the question asker time if their question has already been answered previously on the site. \n",
    " • Frequently repeated questions can frustrate highly engaged users whose feeds become polluted with redundant questions. \n",
    "• Q&A knowledge bases have more value to users and researchers when there is a single canonical question and collections of answers, \n",
    "• Having knowledge of alternative phrasings of the same question can improve search and discovery. \n",
    "\n",
    "A prevalent problem in online Q&A forums like Stack Overflow, Stack Exchange and Quora, for which combining the answers for duplicate questions asked by their users improves the efficiency and the quality of their service.\n",
    "Relevant work: https://web.stanford.edu/class/cs224n/reports/2748045.pdf\n",
    "I will perform numerous experiments using publicly available Quora’s Question Pairs dataset https://www.kaggle.com/c/quora-question-pairs/data,  which consists of 400000 pairs of questions labeled as duplicates or not duplicates.\n",
    "\n",
    "### Problem Statement\n",
    "\n",
    "The problem to be solved is to determine if two different questions asked by Quora users, are they have the same meaning? There might be lot difference in the way users ask a question, so it’s quite challenging to understand the intend of the questions, and put them in the same bucket. This is more of a type classification problem, where you basically answer with yes or no.  The input for the problem is two questions, some of the new input features can be added after preprocessing of the data like shared wight, len_diff. output is either 1 if they are same question or 0 if not.\n",
    "\n",
    "### Metrics\n",
    "\n",
    "The evaluation metric that will be used for measuring the performance of the models will be the log los between the true and the predicted values. Log Loss quantifies the accuracy of a classifier by penalizing false classifications. Minimizing the Log Loss is basically equivalent to maximizing the accuracy of the classifier, but there is a subtle twist which we’ll get to in a moment.\n",
    "The mathematical formula for determining the log loss is the following: \n",
    "-log P(yt|yp) = -(yt log(yp) + (1 - yt) log(1 - yp)) \n",
    "where y is the real value and p the predicted one. "
   ]
  },
  {
   "cell_type": "markdown",
   "metadata": {},
   "source": [
    "## II. Analysis"
   ]
  },
  {
   "cell_type": "markdown",
   "metadata": {},
   "source": [
    "### Data Exploration"
   ]
  },
  {
   "cell_type": "code",
   "execution_count": 1,
   "metadata": {
    "collapsed": true
   },
   "outputs": [],
   "source": [
    "import numpy as np\n",
    "import pandas as pd\n",
    "import matplotlib.pyplot as plt\n",
    "from tqdm import tqdm\n",
    "import time\n",
    "import warnings\n",
    "warnings.filterwarnings('ignore')"
   ]
  },
  {
   "cell_type": "markdown",
   "metadata": {},
   "source": [
    "First I will read the training data and display few lines to get an overview of the data and information available./"
   ]
  },
  {
   "cell_type": "code",
   "execution_count": 2,
   "metadata": {},
   "outputs": [
    {
     "data": {
      "text/html": [
       "<div>\n",
       "<style>\n",
       "    .dataframe thead tr:only-child th {\n",
       "        text-align: right;\n",
       "    }\n",
       "\n",
       "    .dataframe thead th {\n",
       "        text-align: left;\n",
       "    }\n",
       "\n",
       "    .dataframe tbody tr th {\n",
       "        vertical-align: top;\n",
       "    }\n",
       "</style>\n",
       "<table border=\"1\" class=\"dataframe\">\n",
       "  <thead>\n",
       "    <tr style=\"text-align: right;\">\n",
       "      <th></th>\n",
       "      <th>id</th>\n",
       "      <th>qid1</th>\n",
       "      <th>qid2</th>\n",
       "      <th>question1</th>\n",
       "      <th>question2</th>\n",
       "      <th>is_duplicate</th>\n",
       "    </tr>\n",
       "  </thead>\n",
       "  <tbody>\n",
       "    <tr>\n",
       "      <th>0</th>\n",
       "      <td>0</td>\n",
       "      <td>1</td>\n",
       "      <td>2</td>\n",
       "      <td>What is the step by step guide to invest in sh...</td>\n",
       "      <td>What is the step by step guide to invest in sh...</td>\n",
       "      <td>0</td>\n",
       "    </tr>\n",
       "    <tr>\n",
       "      <th>1</th>\n",
       "      <td>1</td>\n",
       "      <td>3</td>\n",
       "      <td>4</td>\n",
       "      <td>What is the story of Kohinoor (Koh-i-Noor) Dia...</td>\n",
       "      <td>What would happen if the Indian government sto...</td>\n",
       "      <td>0</td>\n",
       "    </tr>\n",
       "    <tr>\n",
       "      <th>2</th>\n",
       "      <td>2</td>\n",
       "      <td>5</td>\n",
       "      <td>6</td>\n",
       "      <td>How can I increase the speed of my internet co...</td>\n",
       "      <td>How can Internet speed be increased by hacking...</td>\n",
       "      <td>0</td>\n",
       "    </tr>\n",
       "    <tr>\n",
       "      <th>3</th>\n",
       "      <td>3</td>\n",
       "      <td>7</td>\n",
       "      <td>8</td>\n",
       "      <td>Why am I mentally very lonely? How can I solve...</td>\n",
       "      <td>Find the remainder when [math]23^{24}[/math] i...</td>\n",
       "      <td>0</td>\n",
       "    </tr>\n",
       "    <tr>\n",
       "      <th>4</th>\n",
       "      <td>4</td>\n",
       "      <td>9</td>\n",
       "      <td>10</td>\n",
       "      <td>Which one dissolve in water quikly sugar, salt...</td>\n",
       "      <td>Which fish would survive in salt water?</td>\n",
       "      <td>0</td>\n",
       "    </tr>\n",
       "  </tbody>\n",
       "</table>\n",
       "</div>"
      ],
      "text/plain": [
       "   id  qid1  qid2                                          question1  \\\n",
       "0   0     1     2  What is the step by step guide to invest in sh...   \n",
       "1   1     3     4  What is the story of Kohinoor (Koh-i-Noor) Dia...   \n",
       "2   2     5     6  How can I increase the speed of my internet co...   \n",
       "3   3     7     8  Why am I mentally very lonely? How can I solve...   \n",
       "4   4     9    10  Which one dissolve in water quikly sugar, salt...   \n",
       "\n",
       "                                           question2  is_duplicate  \n",
       "0  What is the step by step guide to invest in sh...             0  \n",
       "1  What would happen if the Indian government sto...             0  \n",
       "2  How can Internet speed be increased by hacking...             0  \n",
       "3  Find the remainder when [math]23^{24}[/math] i...             0  \n",
       "4            Which fish would survive in salt water?             0  "
      ]
     },
     "execution_count": 2,
     "metadata": {},
     "output_type": "execute_result"
    }
   ],
   "source": [
    "data_train = pd.read_csv('data/train.csv')\n",
    "data_train.head()"
   ]
  },
  {
   "cell_type": "markdown",
   "metadata": {},
   "source": [
    "In this dataset we can find the following information:\n",
    "* qid1: Unique ID of question 1\n",
    "* qid2: Unique ID of question 2\n",
    "* question1: Content of question 1\n",
    "* question2: Content of question 2\n",
    "* is_duplicate: A label stating if both questions are the same (1) or not (0)"
   ]
  },
  {
   "cell_type": "markdown",
   "metadata": {},
   "source": [
    "Next, I will display some basic statistics about the dataset."
   ]
  },
  {
   "cell_type": "code",
   "execution_count": 3,
   "metadata": {},
   "outputs": [
    {
     "name": "stdout",
     "output_type": "stream",
     "text": [
      "Number of rows: 404290\n",
      "Number of Duplicate pair of questions: 149263\n",
      "Number of Non duplicate pair of questions: 255027\n",
      "Number of Unique questions: 537933\n"
     ]
    }
   ],
   "source": [
    "print(\"Number of rows: %d\" %len(data_train))\n",
    "dup = data_train[data_train.is_duplicate == 1]\n",
    "n_dup = data_train[data_train.is_duplicate == 0]\n",
    "print(\"Number of Duplicate pair of questions: %d\" %len(dup))\n",
    "print(\"Number of Non duplicate pair of questions: %d\" %len(data_train[data_train.is_duplicate == 0]))\n",
    "\n",
    "qids = data_train.qid1.tolist() + data_train.qid2.tolist()\n",
    "print(\"Number of Unique questions: %d\" %len(set(qids)))"
   ]
  },
  {
   "cell_type": "markdown",
   "metadata": {},
   "source": [
    "### Exploratory Visualization"
   ]
  },
  {
   "cell_type": "markdown",
   "metadata": {},
   "source": [
    "Next, a brief analysis of the questions in the training set. I will use nltk library for this, and I will display an histogram to see the frequency of the lengths of the questions."
   ]
  },
  {
   "cell_type": "code",
   "execution_count": 4,
   "metadata": {
    "scrolled": false
   },
   "outputs": [
    {
     "name": "stdout",
     "output_type": "stream",
     "text": [
      "[nltk_data] Downloading package punkt to /Users/rchoudhu/nltk_data...\n",
      "[nltk_data]   Package punkt is already up-to-date!\n"
     ]
    },
    {
     "data": {
      "image/png": "[encoded data removed]",
      "text/plain": [
       "<matplotlib.figure.Figure at 0x11bc4cb10>"
      ]
     },
     "metadata": {},
     "output_type": "display_data"
    }
   ],
   "source": [
    "import nltk\n",
    "nltk.download('punkt')\n",
    "q_tok = []\n",
    "q_tok += [nltk.tokenize.word_tokenize(i) for i in data_train.question1.apply(lambda x: str(x).decode('utf-8'))]\n",
    "q_tok += [nltk.tokenize.word_tokenize(i) for i in data_train.question2.apply(lambda x: str(x).decode('utf-8'))]\n",
    "\n",
    "word_count = [len(i) for i in q_tok]\n",
    "\n",
    "plt.figure(figsize=(15,10))\n",
    "plt.hist(word_count, bins=30,facecolor='red', edgecolor='yellow',range=[0,100], normed=True)\n",
    "plt.title(\"Normalized histogram of word count\", fontsize=20)\n",
    "plt.xlabel(\"Number of words\", fontsize=15)\n",
    "plt.ylabel(\"Appearances\", fontsize=15)\n",
    "plt.show()"
   ]
  },
  {
   "cell_type": "markdown",
   "metadata": {},
   "source": [
    "From the above figure its clear that most of the questions are composed from about 8 to 12 words. There are some of them which can have even more than 30 words. I will not exclude these outliers for now, because when comparing lengths I will use the absolute value, and not a normalized one. Hence, outliers should not affect my outcome. "
   ]
  },
  {
   "cell_type": "markdown",
   "metadata": {},
   "source": [
    "### Algorithms and Techniques"
   ]
  },
  {
   "cell_type": "markdown",
   "metadata": {},
   "source": [
    "For this project I will evaluate 3 algorithms: AdaBoost, Random Forest and XGBoost. The reason for this is that they are all ensemble methods, which work well for problems where the features are weak learners. In this problem all the features will be so, because there doesn't seem to be one that is highly correlated with the meaning of the question.\n",
    "\n",
    "I will try the 3 models and determine which has the minimum log-loss. After that, I will tune this model to find the best possible parameters for this problem."
   ]
  },
  {
   "cell_type": "markdown",
   "metadata": {},
   "source": [
    "### Benchmark: Naive predictor\n",
    "For rhe Benchmark for testing the effectiveness of this model, I will use a predictor that evaluates if two questions are equal just based on the probability of this happening. I will assign this same probability to every pair of questions. I will upload this result to the Kaggle platform an evaluate the log-loss obtained. This will be my benchmark to see if I can obtain a better model for this."
   ]
  },
  {
   "cell_type": "code",
   "execution_count": 5,
   "metadata": {
    "collapsed": true
   },
   "outputs": [],
   "source": [
    "prob = data_train.is_duplicate.mean()"
   ]
  },
  {
   "cell_type": "code",
   "execution_count": 6,
   "metadata": {
    "collapsed": true
   },
   "outputs": [],
   "source": [
    "data_test = pd.read_csv(\"data/test.csv\")"
   ]
  },
  {
   "cell_type": "code",
   "execution_count": 7,
   "metadata": {
    "collapsed": true
   },
   "outputs": [],
   "source": [
    "results = pd.DataFrame(data_test.test_id)"
   ]
  },
  {
   "cell_type": "code",
   "execution_count": 8,
   "metadata": {
    "collapsed": true
   },
   "outputs": [],
   "source": [
    "test_is_duplicate = []\n",
    "\n",
    "for i in range(len(results.test_id)):\n",
    "    test_is_duplicate.append(prob)"
   ]
  },
  {
   "cell_type": "code",
   "execution_count": 9,
   "metadata": {
    "collapsed": true
   },
   "outputs": [],
   "source": [
    "results['is_duplicate'] = test_is_duplicate\n",
    "results.head()\n",
    "results.to_csv('sub/naive_predictor.csv', index=False)"
   ]
  },
  {
   "cell_type": "markdown",
   "metadata": {},
   "source": [
    "The log-loss obtained was **0.55411**. This will be used as a benchmark, and any model with a lower value will be considered better."
   ]
  },
  {
   "cell_type": "code",
   "execution_count": 10,
   "metadata": {
    "collapsed": true
   },
   "outputs": [],
   "source": [
    "del results"
   ]
  },
  {
   "cell_type": "markdown",
   "metadata": {},
   "source": [
    "## III. Methodology"
   ]
  },
  {
   "cell_type": "markdown",
   "metadata": {},
   "source": [
    "### Data Preprocessing"
   ]
  },
  {
   "cell_type": "markdown",
   "metadata": {},
   "source": [
    "I will be exexuting the following steps for data cleaning and preprocessing.\n",
    "\n",
    "* Remove stop words: In these steps i will remove stop words these words actually does not provide any information to find the similarity between two questions, eg: you, that, yours, are, etc\n",
    "* Apply stemming: steming algorithm find the root of a word, like box, boxex are will be cosider similar after applying the algorithm, it will beacame box.\n",
    "* Tokenize: This will split the questions in mutiple words.\n",
    "* Tf-Idf: term frequency will help to find the importance of each word and inverse documnent frequency find the relative importance of a word in document, which diminishes the weight of terms that occur very frequently in the document set and increases the weight of terms that occur rarely.\n",
    "* DiffLib: This is a Python library that will help me finding differences between 2 strings. Specifically, I will be using the SequenceMatcher method.\n",
    "\n",
    "By doing above mentioned steps, I will get a new set of features, which will be composed of:\n",
    "* shared_weights: a measure of how many words both questions share, weighted by the tf-idf value of each word.\n",
    "* shared_count_scaled: it will represent the normalized amount of words that they have in common.\n",
    "* len_dif: the difference between the lengths of the questions.\n",
    "* z_match_ratio: the value obtained from the SequenceMatcher method.\n"
   ]
  },
  {
   "cell_type": "markdown",
   "metadata": {},
   "source": [
    "### Implementation"
   ]
  },
  {
   "cell_type": "markdown",
   "metadata": {},
   "source": [
    "Defination of the function that will be used for preprocessing."
   ]
  },
  {
   "cell_type": "markdown",
   "metadata": {},
   "source": [
    "###### Remove stop words and appl stemming."
   ]
  },
  {
   "cell_type": "code",
   "execution_count": 11,
   "metadata": {},
   "outputs": [
    {
     "name": "stdout",
     "output_type": "stream",
     "text": [
      "[nltk_data] Downloading package stopwords to\n",
      "[nltk_data]     /Users/rchoudhu/nltk_data...\n",
      "[nltk_data]   Package stopwords is already up-to-date!\n"
     ]
    }
   ],
   "source": [
    "from nltk.stem.snowball import SnowballStemmer\n",
    "import re\n",
    "nltk.download('stopwords')\n",
    "from nltk.corpus import stopwords\n",
    "\n",
    "# Define stemmer method and stop words\n",
    "stemmer = SnowballStemmer(\"english\")\n",
    "stop_words = set(stopwords.words('english'))\n",
    "stop_words.update(['.', ',', '\"', \"'\", '?', '!', ':', ';', '(', ')', '[', ']', '{', '}']) # Adds punctuation to stopwords\n",
    "\n",
    "\n",
    "def cleanQuestions(q_list):\n",
    "    clean_questions = []\n",
    "\n",
    "    for i in range(len(q_list)):\n",
    "        q1 = ''\n",
    "        for j in re.findall(r\"[\\w']+\", str(q_list[i])):\n",
    "            if j not in stop_words:\n",
    "                q1 += stemmer.stem(j)\n",
    "                q1 += \" \"\n",
    "        q = ''\n",
    "        for j in q1.split(): # Because the first words where not taken before\n",
    "            if j not in stop_words:\n",
    "                q += j\n",
    "                q += \" \"\n",
    "        clean_questions.append(q.strip()) # To remove the last blank space\n",
    "        \n",
    "    return clean_questions"
   ]
  },
  {
   "cell_type": "markdown",
   "metadata": {},
   "source": [
    "###### Tf-Idf\n",
    "\n",
    "Applying tf-idf as discussed earlier.\n",
    "First i will find the unique questions, otherwise it might give different results."
   ]
  },
  {
   "cell_type": "code",
   "execution_count": 12,
   "metadata": {
    "collapsed": true
   },
   "outputs": [],
   "source": [
    "def uniqueQuestions(questions1_clean, questions2_clean):\n",
    "    questions = []\n",
    "\n",
    "    for i in tqdm(range(len(questions1_clean))):\n",
    "        questions.append(str(questions1_clean[i]))\n",
    "        questions.append(str(questions2_clean[i]))\n",
    "    \n",
    "    questions = set(questions)\n",
    "\n",
    "    print(\"There are %d unique questions in the dataset.\" %len(questions))\n",
    "    \n",
    "    return questions"
   ]
  },
  {
   "cell_type": "code",
   "execution_count": 13,
   "metadata": {
    "collapsed": true
   },
   "outputs": [],
   "source": [
    "from sklearn.feature_extraction.text import TfidfVectorizer\n",
    "def tfIdfVectorizer(questions):\n",
    "    \n",
    "    # Obtain the Tf-Idf value of each word using sklearn lib.\n",
    "    vectorizer = TfidfVectorizer(max_df=0.5)\n",
    "    tfidf = vectorizer.fit_transform(questions)\n",
    "    idf = vectorizer.idf_\n",
    "    # Create and return a dictionary with every word as a key, and its respective weight as a value\n",
    "    return dict(zip(vectorizer.get_feature_names(), idf))"
   ]
  },
  {
   "cell_type": "markdown",
   "metadata": {},
   "source": [
    "###### Tokenize"
   ]
  },
  {
   "cell_type": "code",
   "execution_count": 14,
   "metadata": {
    "collapsed": true
   },
   "outputs": [],
   "source": [
    "def tokenizeQuestions(q):\n",
    "    return [nltk.tokenize.word_tokenize(i) for i in q]"
   ]
  },
  {
   "cell_type": "markdown",
   "metadata": {},
   "source": [
    "###### Getting the weighted percentage of shared words\n",
    "\n",
    "First, I need a list of the shared words, and a list of all the words for each pair"
   ]
  },
  {
   "cell_type": "code",
   "execution_count": 15,
   "metadata": {
    "collapsed": true
   },
   "outputs": [],
   "source": [
    "def findSharedWords(quest1, quest2):\n",
    "    shared_words = []\n",
    "    total_words = []\n",
    "\n",
    "    for i in tqdm(range(len(quest1))):\n",
    "        shared = []\n",
    "        total = []\n",
    "        for w in quest1[i]:\n",
    "            total.append(w)\n",
    "            if w in quest2[i]:\n",
    "                shared.append(w)\n",
    "        for w in quest2[i]:\n",
    "            total.append(w)\n",
    "            if w in quest1[i]:\n",
    "                shared.append(w)\n",
    "        shared_words.append(shared)\n",
    "        total_words.append(total)\n",
    "    return shared_words, total_words"
   ]
  },
  {
   "cell_type": "markdown",
   "metadata": {},
   "source": [
    "Next, wil create 2 new lists with the shared and total weights, using the idf dictionary created before."
   ]
  },
  {
   "cell_type": "code",
   "execution_count": 16,
   "metadata": {
    "collapsed": true
   },
   "outputs": [],
   "source": [
    "def findSharedWeights(shared_words, total_words):\n",
    "    shared_weights = []\n",
    "    total_weights = []\n",
    "    not_in_dict = []\n",
    "    for i in tqdm(range(len(shared_words))):\n",
    "        shared = []\n",
    "        total = []\n",
    "        for w in shared_words[i]:\n",
    "            try:\n",
    "                shared.append(idf_dict[w])\n",
    "            except:\n",
    "                not_in_dict.append(w)\n",
    "                shared.append(0)\n",
    "        for w in total_words[i]:\n",
    "            try:\n",
    "                total.append(idf_dict[w])\n",
    "            except:\n",
    "                not_in_dict.append(w)\n",
    "                shared.append(0)\n",
    "        shared_weights.append(shared)\n",
    "        total_weights.append(total)\n",
    "    return shared_weights, total_weights"
   ]
  },
  {
   "cell_type": "markdown",
   "metadata": {},
   "source": [
    "Finally, store shared weight/ total weight in a list."
   ]
  },
  {
   "cell_type": "code",
   "execution_count": 17,
   "metadata": {
    "collapsed": true
   },
   "outputs": [],
   "source": [
    "def getWeights(shared_weights, total_weights):\n",
    "    weights = []\n",
    "    for i in range(len(shared_weights)):\n",
    "        shared = 0\n",
    "        total = 0\n",
    "        for j in range(len(shared_weights[i])):\n",
    "            shared += shared_weights[i][j]\n",
    "        for j in range(len(total_weights[i])):\n",
    "            total += total_weights[i][j]\n",
    "        if total == 0:\n",
    "            weights.append(0)\n",
    "        else:\n",
    "            weights.append(shared / total)\n",
    "    return weights"
   ]
  },
  {
   "cell_type": "markdown",
   "metadata": {},
   "source": [
    "I will now apply these transformations to the training dataset."
   ]
  },
  {
   "cell_type": "code",
   "execution_count": 18,
   "metadata": {},
   "outputs": [
    {
     "name": "stderr",
     "output_type": "stream",
     "text": [
      "100%|██████████| 404290/404290 [00:00<00:00, 670871.59it/s]"
     ]
    },
    {
     "name": "stdout",
     "output_type": "stream",
     "text": [
      "There are 509543 unique questions in the dataset.\n"
     ]
    },
    {
     "name": "stderr",
     "output_type": "stream",
     "text": [
      "\n"
     ]
    }
   ],
   "source": [
    "questions1 = data_train.question1.tolist()\n",
    "questions2 = data_train.question2.tolist()\n",
    "\n",
    "questions1_clean = cleanQuestions(questions1)\n",
    "questions2_clean = cleanQuestions(questions2)\n",
    "\n",
    "questions = uniqueQuestions(questions1_clean, questions2_clean)"
   ]
  },
  {
   "cell_type": "code",
   "execution_count": 19,
   "metadata": {
    "collapsed": true
   },
   "outputs": [],
   "source": [
    "idf_dict = tfIdfVectorizer(questions)"
   ]
  },
  {
   "cell_type": "code",
   "execution_count": 20,
   "metadata": {
    "collapsed": true
   },
   "outputs": [],
   "source": [
    "unique_tokens = [nltk.tokenize.word_tokenize(str(i)) for i in questions]"
   ]
  },
  {
   "cell_type": "code",
   "execution_count": 21,
   "metadata": {
    "scrolled": true
   },
   "outputs": [
    {
     "name": "stdout",
     "output_type": "stream",
     "text": [
      "Questions 1 tokenized.\n"
     ]
    },
    {
     "name": "stderr",
     "output_type": "stream",
     "text": [
      "  3%|▎         | 10812/404290 [00:00<00:03, 107602.40it/s]"
     ]
    },
    {
     "name": "stdout",
     "output_type": "stream",
     "text": [
      "Questions 2 tokenized.\n"
     ]
    },
    {
     "name": "stderr",
     "output_type": "stream",
     "text": [
      "100%|██████████| 404290/404290 [00:04<00:00, 85361.70it/s] \n"
     ]
    }
   ],
   "source": [
    "question1_token = tokenizeQuestions(questions1_clean)\n",
    "print 'Questions 1 tokenized.'\n",
    "question2_token = tokenizeQuestions(questions2_clean)\n",
    "print 'Questions 2 tokenized.'\n",
    "\n",
    "shared_words, total_words = findSharedWords(question1_token, question2_token)"
   ]
  },
  {
   "cell_type": "code",
   "execution_count": 22,
   "metadata": {},
   "outputs": [
    {
     "name": "stderr",
     "output_type": "stream",
     "text": [
      "100%|██████████| 404290/404290 [00:04<00:00, 96581.76it/s] \n"
     ]
    }
   ],
   "source": [
    "shared_weights, total_weights = findSharedWeights(shared_words, total_words)"
   ]
  },
  {
   "cell_type": "code",
   "execution_count": 23,
   "metadata": {
    "collapsed": true
   },
   "outputs": [],
   "source": [
    "weights = getWeights(shared_weights, total_weights)"
   ]
  },
  {
   "cell_type": "markdown",
   "metadata": {},
   "source": [
    "I will start a new DataFrame and fill it with the features I create."
   ]
  },
  {
   "cell_type": "code",
   "execution_count": 24,
   "metadata": {},
   "outputs": [
    {
     "data": {
      "text/html": [
       "<div>\n",
       "<style>\n",
       "    .dataframe thead tr:only-child th {\n",
       "        text-align: right;\n",
       "    }\n",
       "\n",
       "    .dataframe thead th {\n",
       "        text-align: left;\n",
       "    }\n",
       "\n",
       "    .dataframe tbody tr th {\n",
       "        vertical-align: top;\n",
       "    }\n",
       "</style>\n",
       "<table border=\"1\" class=\"dataframe\">\n",
       "  <thead>\n",
       "    <tr style=\"text-align: right;\">\n",
       "      <th></th>\n",
       "      <th>shared_weights</th>\n",
       "    </tr>\n",
       "  </thead>\n",
       "  <tbody>\n",
       "    <tr>\n",
       "      <th>0</th>\n",
       "      <td>0.950408</td>\n",
       "    </tr>\n",
       "    <tr>\n",
       "      <th>1</th>\n",
       "      <td>0.652899</td>\n",
       "    </tr>\n",
       "    <tr>\n",
       "      <th>2</th>\n",
       "      <td>0.517698</td>\n",
       "    </tr>\n",
       "    <tr>\n",
       "      <th>3</th>\n",
       "      <td>0.000000</td>\n",
       "    </tr>\n",
       "    <tr>\n",
       "      <th>4</th>\n",
       "      <td>0.237645</td>\n",
       "    </tr>\n",
       "  </tbody>\n",
       "</table>\n",
       "</div>"
      ],
      "text/plain": [
       "   shared_weights\n",
       "0        0.950408\n",
       "1        0.652899\n",
       "2        0.517698\n",
       "3        0.000000\n",
       "4        0.237645"
      ]
     },
     "execution_count": 24,
     "metadata": {},
     "output_type": "execute_result"
    }
   ],
   "source": [
    "X = pd.DataFrame(weights, columns=['shared_weights'])\n",
    "X.head()"
   ]
  },
  {
   "cell_type": "markdown",
   "metadata": {},
   "source": [
    "In order to be able to test the algorithms, I will now generate a new DataFrame with the label for each pair of questions. This label will have value 0 if they don't mean the same, and 1 if they do."
   ]
  },
  {
   "cell_type": "code",
   "execution_count": 25,
   "metadata": {},
   "outputs": [
    {
     "data": {
      "text/html": [
       "<div>\n",
       "<style>\n",
       "    .dataframe thead tr:only-child th {\n",
       "        text-align: right;\n",
       "    }\n",
       "\n",
       "    .dataframe thead th {\n",
       "        text-align: left;\n",
       "    }\n",
       "\n",
       "    .dataframe tbody tr th {\n",
       "        vertical-align: top;\n",
       "    }\n",
       "</style>\n",
       "<table border=\"1\" class=\"dataframe\">\n",
       "  <thead>\n",
       "    <tr style=\"text-align: right;\">\n",
       "      <th></th>\n",
       "      <th>is_duplicate</th>\n",
       "    </tr>\n",
       "  </thead>\n",
       "  <tbody>\n",
       "    <tr>\n",
       "      <th>0</th>\n",
       "      <td>0</td>\n",
       "    </tr>\n",
       "    <tr>\n",
       "      <th>1</th>\n",
       "      <td>0</td>\n",
       "    </tr>\n",
       "    <tr>\n",
       "      <th>2</th>\n",
       "      <td>0</td>\n",
       "    </tr>\n",
       "    <tr>\n",
       "      <th>3</th>\n",
       "      <td>0</td>\n",
       "    </tr>\n",
       "    <tr>\n",
       "      <th>4</th>\n",
       "      <td>0</td>\n",
       "    </tr>\n",
       "  </tbody>\n",
       "</table>\n",
       "</div>"
      ],
      "text/plain": [
       "   is_duplicate\n",
       "0             0\n",
       "1             0\n",
       "2             0\n",
       "3             0\n",
       "4             0"
      ]
     },
     "execution_count": 25,
     "metadata": {},
     "output_type": "execute_result"
    }
   ],
   "source": [
    "y = pd.DataFrame(data_train.is_duplicate, columns=['is_duplicate'])\n",
    "y.head()"
   ]
  },
  {
   "cell_type": "markdown",
   "metadata": {},
   "source": [
    "For each new feature that I create, I will plot the distribution of the duplicate and non duplicate questions, in order to see if this feature seems to be useful for predicting. I will start defining a function that will allow me to do this easier."
   ]
  },
  {
   "cell_type": "code",
   "execution_count": 26,
   "metadata": {
    "collapsed": true
   },
   "outputs": [],
   "source": [
    "def plotDistribution(feature, desc):\n",
    "    plt.figure(figsize=(15, 5))\n",
    "    plt.hist(X[y['is_duplicate'] == 0][feature].tolist(), bins=20, normed=True,facecolor='green',edgecolor='yellow', label='Not Duplicate')\n",
    "    plt.hist(X[y['is_duplicate'] == 1][feature].tolist(), bins=20, normed=True,facecolor='red',edgecolor='yellow', alpha=0.7, label='Duplicate')\n",
    "    plt.legend()\n",
    "    plt.title('Label distribution over ' + desc, fontsize=15)\n",
    "    plt.xlabel(desc, fontsize=15)\n",
    "    plt.ylabel('frequency', fontsize=15)\n",
    "    plt.show()"
   ]
  },
  {
   "cell_type": "code",
   "execution_count": 27,
   "metadata": {},
   "outputs": [
    {
     "data": {
      "image/png": "[encoded data removed]",
      "text/plain": [
       "<matplotlib.figure.Figure at 0x11ac94cd0>"
      ]
     },
     "metadata": {},
     "output_type": "display_data"
    }
   ],
   "source": [
    "plotDistribution('shared_weights', 'shared weights')"
   ]
  },
  {
   "cell_type": "markdown",
   "metadata": {},
   "source": [
    "This feature, **shared_weights**, looks to give some information about the equalness of a pair of questions."
   ]
  },
  {
   "cell_type": "markdown",
   "metadata": {},
   "source": [
    "The next feature I will generate will be the number of shared words in both questions."
   ]
  },
  {
   "cell_type": "code",
   "execution_count": 28,
   "metadata": {
    "collapsed": true
   },
   "outputs": [],
   "source": [
    "shared_count = [len(x) for x in shared_words]"
   ]
  },
  {
   "cell_type": "markdown",
   "metadata": {},
   "source": [
    "In order to see the distribution of this feature, I will plot an histogram. I will define a function that will allow me to do this easier for future features."
   ]
  },
  {
   "cell_type": "code",
   "execution_count": 29,
   "metadata": {
    "collapsed": true
   },
   "outputs": [],
   "source": [
    "def plotHistogram(feature, desc):\n",
    "    plt.figure(figsize=(15, 5))\n",
    "    plt.hist(feature,facecolor='red',edgecolor='yellow', bins=40)\n",
    "    plt.title('Distribution of ' + desc, fontsize=15)\n",
    "    plt.xlabel(desc, fontsize=15)\n",
    "    plt.ylabel('frequency', fontsize=15)\n",
    "    plt.show()"
   ]
  },
  {
   "cell_type": "code",
   "execution_count": 30,
   "metadata": {},
   "outputs": [
    {
     "data": {
      "image/png": "[encoded data removed]",
      "text/plain": [
       "<matplotlib.figure.Figure at 0x16f288910>"
      ]
     },
     "metadata": {},
     "output_type": "display_data"
    }
   ],
   "source": [
    "plotHistogram(shared_count, 'shared count')"
   ]
  },
  {
   "cell_type": "markdown",
   "metadata": {},
   "source": [
    "I will use the MinMaxScaler function of sklearn, for scaling this feature before using it. As we can see in the prior histogram, most of the cases share 10 words or less, so just to make it relvant i will consider ouliers beyond 10 as just 10."
   ]
  },
  {
   "cell_type": "code",
   "execution_count": 31,
   "metadata": {},
   "outputs": [
    {
     "data": {
      "text/html": [
       "<div>\n",
       "<style>\n",
       "    .dataframe thead tr:only-child th {\n",
       "        text-align: right;\n",
       "    }\n",
       "\n",
       "    .dataframe thead th {\n",
       "        text-align: left;\n",
       "    }\n",
       "\n",
       "    .dataframe tbody tr th {\n",
       "        vertical-align: top;\n",
       "    }\n",
       "</style>\n",
       "<table border=\"1\" class=\"dataframe\">\n",
       "  <thead>\n",
       "    <tr style=\"text-align: right;\">\n",
       "      <th></th>\n",
       "      <th>shared_weights</th>\n",
       "      <th>shared_count_scaled</th>\n",
       "    </tr>\n",
       "  </thead>\n",
       "  <tbody>\n",
       "    <tr>\n",
       "      <th>0</th>\n",
       "      <td>0.950408</td>\n",
       "      <td>1.0</td>\n",
       "    </tr>\n",
       "    <tr>\n",
       "      <th>1</th>\n",
       "      <td>0.652899</td>\n",
       "      <td>0.8</td>\n",
       "    </tr>\n",
       "    <tr>\n",
       "      <th>2</th>\n",
       "      <td>0.517698</td>\n",
       "      <td>0.6</td>\n",
       "    </tr>\n",
       "    <tr>\n",
       "      <th>3</th>\n",
       "      <td>0.000000</td>\n",
       "      <td>0.0</td>\n",
       "    </tr>\n",
       "    <tr>\n",
       "      <th>4</th>\n",
       "      <td>0.237645</td>\n",
       "      <td>0.4</td>\n",
       "    </tr>\n",
       "  </tbody>\n",
       "</table>\n",
       "</div>"
      ],
      "text/plain": [
       "   shared_weights  shared_count_scaled\n",
       "0        0.950408                  1.0\n",
       "1        0.652899                  0.8\n",
       "2        0.517698                  0.6\n",
       "3        0.000000                  0.0\n",
       "4        0.237645                  0.4"
      ]
     },
     "execution_count": 31,
     "metadata": {},
     "output_type": "execute_result"
    }
   ],
   "source": [
    "from sklearn.preprocessing import MinMaxScaler\n",
    "\n",
    "shared_count_cut = [x if x < 10 else 10 for x in shared_count]\n",
    "\n",
    "shared_count_scaled = MinMaxScaler().fit_transform(np.array(shared_count_cut, dtype='float64').reshape(-1, 1))\n",
    "\n",
    "X['shared_count_scaled'] = shared_count_scaled.reshape(-1, 1)\n",
    "\n",
    "del shared_count, shared_count_cut, shared_count_scaled\n",
    "\n",
    "X.head()"
   ]
  },
  {
   "cell_type": "markdown",
   "metadata": {},
   "source": [
    "To see how useful this feature is, I will use the function created before and analyze the plot."
   ]
  },
  {
   "cell_type": "code",
   "execution_count": 32,
   "metadata": {},
   "outputs": [
    {
     "data": {
      "image/png": "[encoded data removed]",
      "text/plain": [
       "<matplotlib.figure.Figure at 0x16f285f50>"
      ]
     },
     "metadata": {},
     "output_type": "display_data"
    }
   ],
   "source": [
    "plotDistribution('shared_count_scaled', 'shared count scaled')"
   ]
  },
  {
   "cell_type": "markdown",
   "metadata": {},
   "source": [
    "I can see that pairs with a higher value tend to be duplicated in more cases than the ones with lower values."
   ]
  },
  {
   "cell_type": "markdown",
   "metadata": {},
   "source": [
    "The next feature I will add is the difference in the length of the question. Again, I will scale it to get a value between 0 and 1."
   ]
  },
  {
   "cell_type": "code",
   "execution_count": 33,
   "metadata": {
    "collapsed": true
   },
   "outputs": [],
   "source": [
    "question1_len = [len(x) for x in question1_token]\n",
    "question2_len = [len(x) for x in question2_token]\n",
    "\n",
    "len_dif = []\n",
    "\n",
    "for i in range(len(question1_len)):\n",
    "    len_dif.append(abs(question1_len[i] - question2_len[i]))"
   ]
  },
  {
   "cell_type": "code",
   "execution_count": 34,
   "metadata": {},
   "outputs": [
    {
     "data": {
      "image/png": "[encoded data removed]",
      "text/plain": [
       "<matplotlib.figure.Figure at 0x16f8f4bd0>"
      ]
     },
     "metadata": {},
     "output_type": "display_data"
    }
   ],
   "source": [
    "plotHistogram(len_dif, 'length difference')"
   ]
  },
  {
   "cell_type": "markdown",
   "metadata": {},
   "source": [
    "I can see from this plot that most of the values are lower than 5, so again I will convert higher values to 5, and then rescale it with the MinMaxScaler method."
   ]
  },
  {
   "cell_type": "code",
   "execution_count": 35,
   "metadata": {},
   "outputs": [
    {
     "data": {
      "text/html": [
       "<div>\n",
       "<style>\n",
       "    .dataframe thead tr:only-child th {\n",
       "        text-align: right;\n",
       "    }\n",
       "\n",
       "    .dataframe thead th {\n",
       "        text-align: left;\n",
       "    }\n",
       "\n",
       "    .dataframe tbody tr th {\n",
       "        vertical-align: top;\n",
       "    }\n",
       "</style>\n",
       "<table border=\"1\" class=\"dataframe\">\n",
       "  <thead>\n",
       "    <tr style=\"text-align: right;\">\n",
       "      <th></th>\n",
       "      <th>shared_weights</th>\n",
       "      <th>shared_count_scaled</th>\n",
       "      <th>len_dif</th>\n",
       "    </tr>\n",
       "  </thead>\n",
       "  <tbody>\n",
       "    <tr>\n",
       "      <th>0</th>\n",
       "      <td>0.950408</td>\n",
       "      <td>1.0</td>\n",
       "      <td>0.2</td>\n",
       "    </tr>\n",
       "    <tr>\n",
       "      <th>1</th>\n",
       "      <td>0.652899</td>\n",
       "      <td>0.8</td>\n",
       "      <td>1.0</td>\n",
       "    </tr>\n",
       "    <tr>\n",
       "      <th>2</th>\n",
       "      <td>0.517698</td>\n",
       "      <td>0.6</td>\n",
       "      <td>0.2</td>\n",
       "    </tr>\n",
       "    <tr>\n",
       "      <th>3</th>\n",
       "      <td>0.000000</td>\n",
       "      <td>0.0</td>\n",
       "      <td>1.0</td>\n",
       "    </tr>\n",
       "    <tr>\n",
       "      <th>4</th>\n",
       "      <td>0.237645</td>\n",
       "      <td>0.4</td>\n",
       "      <td>1.0</td>\n",
       "    </tr>\n",
       "  </tbody>\n",
       "</table>\n",
       "</div>"
      ],
      "text/plain": [
       "   shared_weights  shared_count_scaled  len_dif\n",
       "0        0.950408                  1.0      0.2\n",
       "1        0.652899                  0.8      1.0\n",
       "2        0.517698                  0.6      0.2\n",
       "3        0.000000                  0.0      1.0\n",
       "4        0.237645                  0.4      1.0"
      ]
     },
     "execution_count": 35,
     "metadata": {},
     "output_type": "execute_result"
    }
   ],
   "source": [
    "len_dif_cut = [5 if i > 5 else i for i in len_dif]\n",
    "len_dif_cut = np.array(len_dif_cut).reshape(-1, 1)\n",
    "\n",
    "len_dif_scaled = MinMaxScaler().fit_transform(len_dif_cut)\n",
    "\n",
    "X['len_dif'] = len_dif_scaled\n",
    "\n",
    "del len_dif, len_dif_cut\n",
    "\n",
    "X.head()"
   ]
  },
  {
   "cell_type": "code",
   "execution_count": 36,
   "metadata": {},
   "outputs": [
    {
     "data": {
      "image/png": "[encoded data removed]",
      "text/plain": [
       "<matplotlib.figure.Figure at 0x16faa1410>"
      ]
     },
     "metadata": {},
     "output_type": "display_data"
    }
   ],
   "source": [
    "plotDistribution('len_dif', 'length difference scaled')"
   ]
  },
  {
   "cell_type": "markdown",
   "metadata": {},
   "source": [
    "Again, this feature seems to be useful for predicting."
   ]
  },
  {
   "cell_type": "markdown",
   "metadata": {},
   "source": [
    "### DiffLib"
   ]
  },
  {
   "cell_type": "code",
   "execution_count": 37,
   "metadata": {
    "collapsed": true
   },
   "outputs": [],
   "source": [
    "import difflib\n",
    "\n",
    "def diff_ratios(st1, st2):\n",
    "    seq = difflib.SequenceMatcher()\n",
    "    seq.set_seqs(str(st1).lower(), str(st2).lower())\n",
    "    return seq.ratio()"
   ]
  },
  {
   "cell_type": "code",
   "execution_count": 38,
   "metadata": {},
   "outputs": [
    {
     "name": "stderr",
     "output_type": "stream",
     "text": [
      "100%|██████████| 404290/404290 [02:39<00:00, 2527.81it/s]\n"
     ]
    },
    {
     "data": {
      "text/html": [
       "<div>\n",
       "<style>\n",
       "    .dataframe thead tr:only-child th {\n",
       "        text-align: right;\n",
       "    }\n",
       "\n",
       "    .dataframe thead th {\n",
       "        text-align: left;\n",
       "    }\n",
       "\n",
       "    .dataframe tbody tr th {\n",
       "        vertical-align: top;\n",
       "    }\n",
       "</style>\n",
       "<table border=\"1\" class=\"dataframe\">\n",
       "  <thead>\n",
       "    <tr style=\"text-align: right;\">\n",
       "      <th></th>\n",
       "      <th>shared_weights</th>\n",
       "      <th>shared_count_scaled</th>\n",
       "      <th>len_dif</th>\n",
       "      <th>z_match_ratio</th>\n",
       "    </tr>\n",
       "  </thead>\n",
       "  <tbody>\n",
       "    <tr>\n",
       "      <th>0</th>\n",
       "      <td>0.950408</td>\n",
       "      <td>1.0</td>\n",
       "      <td>0.2</td>\n",
       "      <td>0.926829</td>\n",
       "    </tr>\n",
       "    <tr>\n",
       "      <th>1</th>\n",
       "      <td>0.652899</td>\n",
       "      <td>0.8</td>\n",
       "      <td>1.0</td>\n",
       "      <td>0.661871</td>\n",
       "    </tr>\n",
       "    <tr>\n",
       "      <th>2</th>\n",
       "      <td>0.517698</td>\n",
       "      <td>0.6</td>\n",
       "      <td>0.2</td>\n",
       "      <td>0.439394</td>\n",
       "    </tr>\n",
       "    <tr>\n",
       "      <th>3</th>\n",
       "      <td>0.000000</td>\n",
       "      <td>0.0</td>\n",
       "      <td>1.0</td>\n",
       "      <td>0.086957</td>\n",
       "    </tr>\n",
       "    <tr>\n",
       "      <th>4</th>\n",
       "      <td>0.237645</td>\n",
       "      <td>0.4</td>\n",
       "      <td>1.0</td>\n",
       "      <td>0.365217</td>\n",
       "    </tr>\n",
       "  </tbody>\n",
       "</table>\n",
       "</div>"
      ],
      "text/plain": [
       "   shared_weights  shared_count_scaled  len_dif  z_match_ratio\n",
       "0        0.950408                  1.0      0.2       0.926829\n",
       "1        0.652899                  0.8      1.0       0.661871\n",
       "2        0.517698                  0.6      0.2       0.439394\n",
       "3        0.000000                  0.0      1.0       0.086957\n",
       "4        0.237645                  0.4      1.0       0.365217"
      ]
     },
     "execution_count": 38,
     "metadata": {},
     "output_type": "execute_result"
    }
   ],
   "source": [
    "z_match_ratio = []\n",
    "\n",
    "for i in tqdm(range(len(data_train))):\n",
    "    z_match_ratio.append(diff_ratios(data_train.question1[i], data_train.question2[i]))\n",
    "                         \n",
    "X['z_match_ratio'] = z_match_ratio\n",
    "\n",
    "X.head()"
   ]
  },
  {
   "cell_type": "code",
   "execution_count": 39,
   "metadata": {},
   "outputs": [
    {
     "data": {
      "image/png": "[encoded data removed]",
      "text/plain": [
       "<matplotlib.figure.Figure at 0x16fdeb050>"
      ]
     },
     "metadata": {},
     "output_type": "display_data"
    }
   ],
   "source": [
    "plotDistribution('z_match_ratio', ' z match ratio')"
   ]
  },
  {
   "cell_type": "markdown",
   "metadata": {},
   "source": [
    "Finally, I will split the features and labels into a training and test set, in order to look for a good model. At the end, when I finally decide which to use, I will use the whole set for training, and I will test using the Kaggle testing set."
   ]
  },
  {
   "cell_type": "code",
   "execution_count": 40,
   "metadata": {
    "collapsed": true
   },
   "outputs": [],
   "source": [
    "from sklearn.model_selection import train_test_split\n",
    "x_train, x_test, y_train, y_test = train_test_split(X, y, test_size=0.2, random_state=50)"
   ]
  },
  {
   "cell_type": "markdown",
   "metadata": {},
   "source": [
    "###### Model selection"
   ]
  },
  {
   "cell_type": "markdown",
   "metadata": {},
   "source": [
    "Now that I have both the features that I will try, and the labels for each data point, I will start with the analysis of 3 different models which might obtain a good result: Random forest, AdaBoost and XGBoost."
   ]
  },
  {
   "cell_type": "code",
   "execution_count": 41,
   "metadata": {
    "collapsed": true
   },
   "outputs": [],
   "source": [
    "from sklearn.metrics import log_loss"
   ]
  },
  {
   "cell_type": "markdown",
   "metadata": {},
   "source": [
    "###### AdaBoost"
   ]
  },
  {
   "cell_type": "code",
   "execution_count": 42,
   "metadata": {},
   "outputs": [
    {
     "name": "stdout",
     "output_type": "stream",
     "text": [
      "Log loss: 0.680521\n"
     ]
    }
   ],
   "source": [
    "from sklearn.ensemble import AdaBoostClassifier\n",
    "\n",
    "clf = AdaBoostClassifier(random_state=50)\n",
    "clf.fit(x_train, np.ravel(y_train))\n",
    "\n",
    "pred = clf.predict_proba(x_test)\n",
    "\n",
    "print 'Log loss: %f' %log_loss(y_test, pred)"
   ]
  },
  {
   "cell_type": "markdown",
   "metadata": {},
   "source": [
    "###### Random Forest"
   ]
  },
  {
   "cell_type": "code",
   "execution_count": 43,
   "metadata": {},
   "outputs": [
    {
     "name": "stdout",
     "output_type": "stream",
     "text": [
      "Log loss: 0.643501\n"
     ]
    }
   ],
   "source": [
    "from sklearn.ensemble import RandomForestClassifier\n",
    "\n",
    "clf= RandomForestClassifier(n_estimators=100)\n",
    "\n",
    "clf.fit(x_train, np.ravel(y_train))\n",
    "\n",
    "pred = clf.predict_proba(x_test)\n",
    "\n",
    "print 'Log loss: %f' %log_loss(y_test, pred)"
   ]
  },
  {
   "cell_type": "markdown",
   "metadata": {},
   "source": [
    "###### XGBoost"
   ]
  },
  {
   "cell_type": "code",
   "execution_count": 44,
   "metadata": {
    "collapsed": true
   },
   "outputs": [],
   "source": [
    "import os\n",
    "\n",
    "import xgboost as xgb"
   ]
  },
  {
   "cell_type": "code",
   "execution_count": 45,
   "metadata": {},
   "outputs": [
    {
     "name": "stdout",
     "output_type": "stream",
     "text": [
      "[0]\ttrain-logloss:0.684466\ttest-logloss:0.684601\n",
      "Multiple eval metrics have been passed: 'test-logloss' will be used for early stopping.\n",
      "\n",
      "Will train until test-logloss hasn't improved in 50 rounds.\n",
      "[10]\ttrain-logloss:0.619656\ttest-logloss:0.620855\n",
      "[20]\ttrain-logloss:0.580234\ttest-logloss:0.582094\n",
      "[30]\ttrain-logloss:0.554887\ttest-logloss:0.557155\n",
      "[40]\ttrain-logloss:0.537898\ttest-logloss:0.540523\n",
      "[50]\ttrain-logloss:0.526442\ttest-logloss:0.529314\n",
      "[60]\ttrain-logloss:0.518565\ttest-logloss:0.521638\n",
      "[70]\ttrain-logloss:0.513149\ttest-logloss:0.516361\n",
      "[80]\ttrain-logloss:0.509454\ttest-logloss:0.512774\n",
      "[90]\ttrain-logloss:0.506628\ttest-logloss:0.510028\n",
      "[99]\ttrain-logloss:0.504747\ttest-logloss:0.50822\n"
     ]
    }
   ],
   "source": [
    "params = {}\n",
    "params['objective'] = 'binary:logistic'\n",
    "params['eval_metric'] = 'logloss'\n",
    "params['eta'] = 0.03\n",
    "params['max_depth'] = 5\n",
    "\n",
    "d_train = xgb.DMatrix(x_train, label=y_train)\n",
    "d_test = xgb.DMatrix(x_test, label=y_test)\n",
    "\n",
    "watchlist = [(d_train, 'train'), (d_test, 'test')]\n",
    "\n",
    "bst = xgb.train(params, d_train, 100, watchlist, early_stopping_rounds=50, verbose_eval=10)"
   ]
  },
  {
   "cell_type": "markdown",
   "metadata": {},
   "source": [
    "As we can see, the three models have a similar log-loss, so in order to determine which is potentially better, I should tune each of them to find the best possible parameters. In the next section, I will focus on that."
   ]
  },
  {
   "cell_type": "markdown",
   "metadata": {},
   "source": [
    "### Refinement"
   ]
  },
  {
   "cell_type": "markdown",
   "metadata": {},
   "source": [
    "In order to find which is the best of the three models, I will tune them and see which one gives me the lowest log-loss. For tuning, I will use the GridSearchCV tool from the scikit-learn library."
   ]
  },
  {
   "cell_type": "code",
   "execution_count": 46,
   "metadata": {
    "collapsed": true
   },
   "outputs": [],
   "source": [
    "from sklearn.model_selection import GridSearchCV"
   ]
  },
  {
   "cell_type": "markdown",
   "metadata": {},
   "source": [
    "I will now define a function that will allow me to use GridSearchCV in a simpler way."
   ]
  },
  {
   "cell_type": "code",
   "execution_count": 47,
   "metadata": {
    "collapsed": true
   },
   "outputs": [],
   "source": [
    "def gridSearch(clf, base=None, params={}, base_params={}):\n",
    "    start = time.time()\n",
    "    \n",
    "    param_grid = dict()\n",
    "    for i in params.keys():\n",
    "        param_grid[i] = params[i]\n",
    "    for i in base_params.keys():\n",
    "        param_grid['base_estimator__' + i] = base_params[i]\n",
    "    if base == None:\n",
    "        pass\n",
    "    else:\n",
    "        clf = type(clf)(base_estimator=base, random_state=50)\n",
    "    gs = GridSearchCV(clf, param_grid, scoring='neg_log_loss')\n",
    "    gs.fit(x_train, np.ravel(y_train))\n",
    "    \n",
    "    end = time.time()\n",
    "    \n",
    "    pred = gs.predict_proba(x_test)\n",
    "    print 'Time taken: %f seconds' %(end - start)\n",
    "    print 'Log loss: %f' %log_loss(y_test, pred)\n",
    "    best_params = [i + ': ' + str(gs.best_params_[i]) for i in gs.best_params_.keys()]\n",
    "    print 'Best parameters:'\n",
    "    if params != {}:\n",
    "        print '   Classifier:'\n",
    "        for i in range(len(params.keys())):\n",
    "            print '      ' + best_params[i]\n",
    "    if base_params != {}:\n",
    "        print '   Base Estimator:'\n",
    "        for i in range(len(base_params.keys())):\n",
    "            print '      ' + best_params[i + len(params.keys())][16:]"
   ]
  },
  {
   "cell_type": "markdown",
   "metadata": {},
   "source": [
    "For every model I will apply GridSearchCV to a series of parameters that I consider they have a bigger effect on log-loss. I tried every single parameter before, and given the results I chose these. In order to make it quicker, I will try them separately. If I put all of them together the search can take a very long time."
   ]
  },
  {
   "cell_type": "markdown",
   "metadata": {},
   "source": [
    "###### AdaBoost"
   ]
  },
  {
   "cell_type": "code",
   "execution_count": 48,
   "metadata": {},
   "outputs": [
    {
     "name": "stderr",
     "output_type": "stream",
     "text": []
    },
    {
     "name": "stdout",
     "output_type": "stream",
     "text": [
      "Time taken: 3844.312000 seconds\n",
      "Log loss: 0.541379\n",
      "Best parameters:\n",
      "   Base Estimator:\n",
      "      min_samples_split: 10\n",
      "      min_samples_leaf: 30\n"
     ]
    }
   ],
   "source": [
    "from sklearn.tree import DecisionTreeClassifier\n",
    "gridSearch(AdaBoostClassifier(random_state=50), \n",
    "           base=DecisionTreeClassifier(), \n",
    "           base_params={'min_samples_split':[10, 30], \n",
    "                        'min_samples_leaf':[10, 30]})"
   ]
  },
  {
   "cell_type": "code",
   "execution_count": 49,
   "metadata": {},
   "outputs": [
    {
     "name": "stderr",
     "output_type": "stream",
     "text": []
    },
    {
     "name": "stdout",
     "output_type": "stream",
     "text": [
      "Time taken: 3190.134000 seconds\n",
      "Log loss: 0.543411\n",
      "Best parameters:\n",
      "   Classifier:\n",
      "      n_estimators: 70\n",
      "   Base Estimator:\n",
      "      min_weight_fraction_leaf: 0.0\n"
     ]
    }
   ],
   "source": [
    "gridSearch(AdaBoostClassifier(random_state=50),\n",
    "          base=DecisionTreeClassifier(min_samples_split=10,\n",
    "                                     min_samples_leaf=30),\n",
    "           params={'n_estimators':[70, 50]},\n",
    "           base_params={'min_weight_fraction_leaf': [0.0, 0.01]}\n",
    "          )"
   ]
  },
  {
   "cell_type": "code",
   "execution_count": 50,
   "metadata": {},
   "outputs": [
    {
     "name": "stderr",
     "output_type": "stream",
     "text": []
    },
    {
     "name": "stdout",
     "output_type": "stream",
     "text": [
      "Time taken: 4177.514000 seconds\n",
      "Log loss: 0.544321\n",
      "Best parameters:\n",
      "   Classifier:\n",
      "      learning_rate: 0.5\n"
     ]
    }
   ],
   "source": [
    "gridSearch(AdaBoostClassifier(n_estimators=70, random_state=50),\n",
    "          base=DecisionTreeClassifier(min_samples_split=10,\n",
    "                                     min_samples_leaf=30,\n",
    "                                     min_weight_fraction_leaf=0.0),\n",
    "           params={'learning_rate':[0.1, 0.3, 0.5]})"
   ]
  },
  {
   "cell_type": "markdown",
   "metadata": {},
   "source": [
    "The best log-loss obtained from AdaBoost algorithm is **0.54**."
   ]
  },
  {
   "cell_type": "markdown",
   "metadata": {},
   "source": [
    "###### Random Forest"
   ]
  },
  {
   "cell_type": "code",
   "execution_count": 51,
   "metadata": {},
   "outputs": [
    {
     "name": "stderr",
     "output_type": "stream",
     "text": []
    },
    {
     "name": "stdout",
     "output_type": "stream",
     "text": [
      "Time taken: 1109.031000 seconds\n",
      "Log loss: 0.623910\n",
      "Best parameters:\n",
      "   Classifier:\n",
      "       n_estimators: 200\n"
     ]
    }
   ],
   "source": [
    "gridSearch(RandomForestClassifier(random_state=50), \n",
    "          params={'n_estimators':[100, 200]})"
   ]
  },
  {
   "cell_type": "code",
   "execution_count": 52,
   "metadata": {},
   "outputs": [
    {
     "name": "stderr",
     "output_type": "stream",
     "text": []
    },
    {
     "name": "stdout",
     "output_type": "stream",
     "text": [
      "Time taken: 603.131000 seconds\n",
      "Log loss: 0.504013\n",
      "Best parameters:\n",
      "   Classifier:\n",
      "      min_samples_leaf: 10\n"
     ]
    }
   ],
   "source": [
    "gridSearch(RandomForestClassifier(n_estimators=200, \n",
    "                                  random_state=50), \n",
    "          params={'min_samples_leaf': [5, 10]})"
   ]
  },
  {
   "cell_type": "markdown",
   "metadata": {},
   "source": [
    "The best log-loss obtained from RandomForest is **0.50**."
   ]
  },
  {
   "cell_type": "markdown",
   "metadata": {},
   "source": [
    "###### XGBoost\n",
    "\n",
    "In order to use GridSearchCV with XGBoost, I will need to use the sklearn implementation of this algorithm."
   ]
  },
  {
   "cell_type": "code",
   "execution_count": 53,
   "metadata": {},
   "outputs": [
    {
     "name": "stderr",
     "output_type": "stream",
     "text": []
    },
    {
     "name": "stdout",
     "output_type": "stream",
     "text": [
      "Time taken: 124.388130 seconds\n",
      "Log loss: 0.501172\n",
      "Best parameters:\n",
      "   Classifier:\n",
      "      reg_alpha: 0.5\n",
      "      max_depth: 4\n"
     ]
    }
   ],
   "source": [
    "xgbclf = xgb.XGBClassifier(seed=50)\n",
    "\n",
    "gridSearch(xgbclf, \n",
    "          params={'max_depth': [2, 3, 4],\n",
    "                 'reg_alpha': [0.3, 0.5]})"
   ]
  },
  {
   "cell_type": "code",
   "execution_count": 54,
   "metadata": {},
   "outputs": [
    {
     "name": "stderr",
     "output_type": "stream",
     "text": []
    },
    {
     "name": "stdout",
     "output_type": "stream",
     "text": [
      "Time taken: 163.283536 seconds\n",
      "Log loss: 0.496270\n",
      "Best parameters:\n",
      "   Classifier:\n",
      "      learning_rate: 0.3\n",
      "      gamma: 0.0\n"
     ]
    }
   ],
   "source": [
    "xgbclf = xgb.XGBClassifier(max_depth=4, \n",
    "                           reg_alpha=0.5,\n",
    "                           seed=50)\n",
    "\n",
    "gridSearch(xgbclf, \n",
    "          params={'learning_rate': [0.1, 0.3, 0.5],\n",
    "                 'gamma': [0.0, 0.1]})"
   ]
  },
  {
   "cell_type": "code",
   "execution_count": 55,
   "metadata": {},
   "outputs": [
    {
     "name": "stderr",
     "output_type": "stream",
     "text": []
    },
    {
     "name": "stdout",
     "output_type": "stream",
     "text": [
      "Time taken: 241.865434 seconds\n",
      "Log loss: 0.496455\n",
      "Best parameters:\n",
      "   Classifier:\n",
      "      reg_lambda: 1\n",
      "      min_child_weight: 0.5\n"
     ]
    }
   ],
   "source": [
    "xgbclf = xgb.XGBClassifier(max_depth=4, \n",
    "                           reg_alpha=0.5,\n",
    "                           learning_rate=0.3,\n",
    "                          gamma=0.0,\n",
    "                           seed=50)\n",
    "\n",
    "gridSearch(xgbclf, \n",
    "          params={'reg_lambda': [0.5, 0.7, 1],\n",
    "                'min_child_weight': [0.5, 1, 2]})"
   ]
  },
  {
   "cell_type": "markdown",
   "metadata": {},
   "source": [
    "The log loss obtained from XGBoost is **0.49**.\n",
    "\n",
    "I will choose the **XGBoost** algorithm, given that it has the lowest log loss, and it is by far the fastest to train."
   ]
  },
  {
   "cell_type": "markdown",
   "metadata": {},
   "source": [
    "###### Rebalancing positive an negative cases\n",
    "\n",
    "Based on this article from Kaggle and it's comments, I know that the distribution of possitive and negative cases in the test data is not the same as the one in the training data: https://www.kaggle.com/davidthaler/quora-question-pairs/how-many-1-s-are-in-the-public-lb/run/1013730. In the training data we have around 37% of positive cases, while the test data has around 16.5%.\n",
    "So for having a better score from Kaggle I need to rebalance the data."
   ]
  },
  {
   "cell_type": "code",
   "execution_count": 56,
   "metadata": {},
   "outputs": [
    {
     "name": "stdout",
     "output_type": "stream",
     "text": [
      "Unbalanced ratio: 0.369198\n",
      "Balanced ratio: 0.164997 \n"
     ]
    }
   ],
   "source": [
    "pos_train = X[y.is_duplicate == 1]\n",
    "neg_train = X[y.is_duplicate == 0]\n",
    "\n",
    "p = 0.165 # target ratio\n",
    "\n",
    "n = 0\n",
    "\n",
    "print 'Unbalanced ratio: %f' %(1.0 * len(pos_train) / (len(pos_train) + len(neg_train)))\n",
    "\n",
    "while 1.0 * len(pos_train) / (len(pos_train) + len(neg_train)) >= p:\n",
    "    if n < len(neg_train):\n",
    "        neg_train = neg_train.append(neg_train[n:n+50])\n",
    "        n += 50\n",
    "    \n",
    "print 'Balanced ratio: %f ' %(1.0 * len(pos_train) / (len(pos_train) + len(neg_train)))\n",
    "\n",
    "X_r = pd.concat([pos_train, neg_train])\n",
    "y_r = (np.zeros(len(pos_train)) + 1).tolist() + np.zeros(len(neg_train)).tolist()\n",
    "del pos_train, neg_train\n",
    "\n"
   ]
  },
  {
   "cell_type": "code",
   "execution_count": 57,
   "metadata": {
    "collapsed": true
   },
   "outputs": [],
   "source": [
    "x_train, x_test, y_train, y_test = train_test_split(X_r, y_r, test_size=0.2, random_state=50)"
   ]
  },
  {
   "cell_type": "markdown",
   "metadata": {},
   "source": [
    "I will try tuning some extra parameters, given the balanced set. "
   ]
  },
  {
   "cell_type": "code",
   "execution_count": 58,
   "metadata": {},
   "outputs": [
    {
     "name": "stderr",
     "output_type": "stream",
     "text": []
    },
    {
     "name": "stdout",
     "output_type": "stream",
     "text": [
      "Time taken: 637.731414 seconds\n",
      "Log loss: 0.352851\n",
      "Best parameters:\n",
      "   Classifier:\n",
      "      reg_lambda: 1\n",
      "      min_child_weight: 1\n"
     ]
    }
   ],
   "source": [
    "xgbclf = xgb.XGBClassifier(max_depth=4, \n",
    "                           reg_alpha=0.5,\n",
    "                           learning_rate=0.3,\n",
    "                           gamma=0.0,\n",
    "                           seed=50)\n",
    "\n",
    "gridSearch(xgbclf, \n",
    "          params={'reg_lambda': [0.5, 0.7, 1],\n",
    "                 'min_child_weight': [0.5, 1, 2]})"
   ]
  },
  {
   "cell_type": "code",
   "execution_count": 59,
   "metadata": {},
   "outputs": [
    {
     "name": "stderr",
     "output_type": "stream",
     "text": []
    },
    {
     "name": "stdout",
     "output_type": "stream",
     "text": [
      "Time taken: 1020.881374 seconds\n",
      "Log loss: 0.344847\n",
      "Best parameters:\n",
      "   Classifier:\n",
      "      max_depth: 6\n"
     ]
    }
   ],
   "source": [
    "xgbclf = xgb.XGBClassifier(n_estimators=500,\n",
    "                           reg_alpha=0.5,\n",
    "                           learning_rate=0.3,\n",
    "                           gamma=0.0,\n",
    "                           reg_lambda=1,\n",
    "                           min_child_weight=1,\n",
    "                           seed=50)\n",
    "\n",
    "gridSearch(xgbclf, \n",
    "          params={'max_depth': [4, 6]})"
   ]
  },
  {
   "cell_type": "markdown",
   "metadata": {},
   "source": [
    "This is the final classifier that I will use for testing in the Kaggle testing set."
   ]
  },
  {
   "cell_type": "code",
   "execution_count": 60,
   "metadata": {},
   "outputs": [
    {
     "name": "stdout",
     "output_type": "stream",
     "text": [
      "[0]\ttrain-logloss:0.557866\ttest-logloss:0.557919\n",
      "Multiple eval metrics have been passed: 'test-logloss' will be used for early stopping.\n",
      "\n",
      "Will train until test-logloss hasn't improved in 50 rounds.\n",
      "[10]\ttrain-logloss:0.364006\ttest-logloss:0.364704\n",
      "[20]\ttrain-logloss:0.357473\ttest-logloss:0.358471\n",
      "[30]\ttrain-logloss:0.355758\ttest-logloss:0.356926\n",
      "[40]\ttrain-logloss:0.353992\ttest-logloss:0.35549\n",
      "[50]\ttrain-logloss:0.352719\ttest-logloss:0.354545\n",
      "[60]\ttrain-logloss:0.352102\ttest-logloss:0.354134\n",
      "[70]\ttrain-logloss:0.351432\ttest-logloss:0.35369\n",
      "[80]\ttrain-logloss:0.350748\ttest-logloss:0.353221\n",
      "[90]\ttrain-logloss:0.350379\ttest-logloss:0.353052\n",
      "[100]\ttrain-logloss:0.349975\ttest-logloss:0.352831\n",
      "[110]\ttrain-logloss:0.349715\ttest-logloss:0.352699\n",
      "[120]\ttrain-logloss:0.349305\ttest-logloss:0.352428\n",
      "[130]\ttrain-logloss:0.348896\ttest-logloss:0.352204\n",
      "[140]\ttrain-logloss:0.348585\ttest-logloss:0.352067\n",
      "[150]\ttrain-logloss:0.348277\ttest-logloss:0.351969\n",
      "[160]\ttrain-logloss:0.347995\ttest-logloss:0.351889\n",
      "[170]\ttrain-logloss:0.347727\ttest-logloss:0.351794\n",
      "[180]\ttrain-logloss:0.347422\ttest-logloss:0.351708\n",
      "[190]\ttrain-logloss:0.347195\ttest-logloss:0.351615\n",
      "[200]\ttrain-logloss:0.346993\ttest-logloss:0.351544\n",
      "[210]\ttrain-logloss:0.346783\ttest-logloss:0.35149\n",
      "[220]\ttrain-logloss:0.34646\ttest-logloss:0.351373\n",
      "[230]\ttrain-logloss:0.346187\ttest-logloss:0.351289\n",
      "[240]\ttrain-logloss:0.345945\ttest-logloss:0.351175\n",
      "[250]\ttrain-logloss:0.345702\ttest-logloss:0.351081\n",
      "[260]\ttrain-logloss:0.345461\ttest-logloss:0.350958\n",
      "[270]\ttrain-logloss:0.345169\ttest-logloss:0.350862\n",
      "[280]\ttrain-logloss:0.344859\ttest-logloss:0.350718\n",
      "[290]\ttrain-logloss:0.344531\ttest-logloss:0.350547\n",
      "[299]\ttrain-logloss:0.34433\ttest-logloss:0.350499\n"
     ]
    }
   ],
   "source": [
    "params = {}\n",
    "params['objective'] = 'binary:logistic'\n",
    "params['eval_metric'] = 'logloss'\n",
    "params['n_estimators'] = 500\n",
    "params['max_depth'] = 4\n",
    "params['reg_alpha'] = 0.5\n",
    "params['learning_rate'] = 0.3\n",
    "params['gamma'] = 0.0\n",
    "params['reg_lambda'] = 1\n",
    "params['min_child_weight'] = 1\n",
    "params['seed'] = 500\n",
    "\n",
    "\n",
    "\n",
    "d_train = xgb.DMatrix(x_train, label=y_train)\n",
    "d_test = xgb.DMatrix(x_test, label=y_test)\n",
    "\n",
    "watchlist = [(d_train, 'train'), (d_test, 'test')]\n",
    "\n",
    "bst = xgb.train(params, d_train, 300, watchlist, early_stopping_rounds=50, verbose_eval=10)"
   ]
  },
  {
   "cell_type": "markdown",
   "metadata": {},
   "source": [
    "We can now see how important each feature was, by checking their f-score. We can see that the most important is shared_weights, followed by z_match_ratio."
   ]
  },
  {
   "cell_type": "code",
   "execution_count": 61,
   "metadata": {},
   "outputs": [
    {
     "data": {
      "text/html": [
       "<div>\n",
       "<style>\n",
       "    .dataframe thead tr:only-child th {\n",
       "        text-align: right;\n",
       "    }\n",
       "\n",
       "    .dataframe thead th {\n",
       "        text-align: left;\n",
       "    }\n",
       "\n",
       "    .dataframe tbody tr th {\n",
       "        vertical-align: top;\n",
       "    }\n",
       "</style>\n",
       "<table border=\"1\" class=\"dataframe\">\n",
       "  <thead>\n",
       "    <tr style=\"text-align: right;\">\n",
       "      <th></th>\n",
       "      <th>feature</th>\n",
       "      <th>importance</th>\n",
       "    </tr>\n",
       "  </thead>\n",
       "  <tbody>\n",
       "    <tr>\n",
       "      <th>1</th>\n",
       "      <td>shared_weights</td>\n",
       "      <td>1928</td>\n",
       "    </tr>\n",
       "    <tr>\n",
       "      <th>2</th>\n",
       "      <td>z_match_ratio</td>\n",
       "      <td>1392</td>\n",
       "    </tr>\n",
       "    <tr>\n",
       "      <th>0</th>\n",
       "      <td>shared_count_scaled</td>\n",
       "      <td>480</td>\n",
       "    </tr>\n",
       "    <tr>\n",
       "      <th>3</th>\n",
       "      <td>len_dif</td>\n",
       "      <td>286</td>\n",
       "    </tr>\n",
       "  </tbody>\n",
       "</table>\n",
       "</div>"
      ],
      "text/plain": [
       "               feature  importance\n",
       "1       shared_weights        1928\n",
       "2        z_match_ratio        1392\n",
       "0  shared_count_scaled         480\n",
       "3              len_dif         286"
      ]
     },
     "execution_count": 61,
     "metadata": {},
     "output_type": "execute_result"
    }
   ],
   "source": [
    "feature_importance = pd.DataFrame(bst.get_fscore().items(), columns=['feature','importance']).sort_values('importance', ascending=False)\n",
    "feature_importance"
   ]
  },
  {
   "cell_type": "code",
   "execution_count": 77,
   "metadata": {},
   "outputs": [
    {
     "data": {
      "image/png": "[encoded data removed]",
      "text/plain": [
       "<matplotlib.figure.Figure at 0x16fe70b90>"
      ]
     },
     "metadata": {},
     "output_type": "display_data"
    }
   ],
   "source": [
    "plt.figure(figsize=(12,6))\n",
    "plt.title('Feature importance')\n",
    "plt.ylabel('f-score')\n",
    "plt.xlabel('feature')\n",
    "plt.bar(range(len(feature_importance.feature)), feature_importance.importance,facecolor='red',edgecolor='yellow', tick_label=feature_importance.feature)\n",
    "plt.show()"
   ]
  },
  {
   "cell_type": "markdown",
   "metadata": {},
   "source": [
    "## IV. Results"
   ]
  },
  {
   "cell_type": "markdown",
   "metadata": {},
   "source": [
    "### Model Evaluation and Validation\n",
    "Having already decided the model to use, I applied the same transformations to the provided testing data set, in order to get the new features and be able to make predictions.\n",
    "This provided a different input to test the model, besides the one obtained from the train_test_split method. This new testing set doesn't have the labels in order to test it by my own, but it is possible to test in on the Kaggle platform. This is good, because this data is not used during the training set, so it provides a very robust indicator."
   ]
  },
  {
   "cell_type": "code",
   "execution_count": 63,
   "metadata": {
    "collapsed": true
   },
   "outputs": [],
   "source": [
    "data_test = pd.read_csv(\"data/test.csv\")"
   ]
  },
  {
   "cell_type": "code",
   "execution_count": 64,
   "metadata": {},
   "outputs": [
    {
     "name": "stderr",
     "output_type": "stream",
     "text": [
      "100%|██████████| 2345796/2345796 [00:04<00:00, 573572.45it/s]"
     ]
    },
    {
     "name": "stdout",
     "output_type": "stream",
     "text": [
      "There are 3345831 unique questions in the dataset.\n"
     ]
    },
    {
     "name": "stderr",
     "output_type": "stream",
     "text": [
      "\n"
     ]
    }
   ],
   "source": [
    "questions1_t = data_test.question1.tolist()\n",
    "questions2_t = data_test.question2.tolist()\n",
    "\n",
    "questions1_clean_t = cleanQuestions(questions1_t)\n",
    "questions2_clean_t = cleanQuestions(questions2_t)\n",
    "\n",
    "questions_t = uniqueQuestions(questions1_clean_t, questions2_clean_t)"
   ]
  },
  {
   "cell_type": "code",
   "execution_count": 75,
   "metadata": {
    "collapsed": true
   },
   "outputs": [],
   "source": [
    "idf_dict_t = tfIdfVectorizer(questions_t)"
   ]
  },
  {
   "cell_type": "code",
   "execution_count": 66,
   "metadata": {},
   "outputs": [
    {
     "name": "stdout",
     "output_type": "stream",
     "text": [
      "Questions 1 tokenized.\n",
      "Questions 2 tokenized.\n"
     ]
    }
   ],
   "source": [
    "unique_tokens_t = [nltk.tokenize.word_tokenize(str(i)) for i in questions_t]\n",
    "\n",
    "question1_token_t = tokenizeQuestions(questions1_clean_t)\n",
    "print 'Questions 1 tokenized.'\n",
    "question2_token_t = tokenizeQuestions(questions2_clean_t)\n",
    "print 'Questions 2 tokenized.'"
   ]
  },
  {
   "cell_type": "code",
   "execution_count": 67,
   "metadata": {},
   "outputs": [
    {
     "name": "stderr",
     "output_type": "stream",
     "text": [
      "100%|██████████| 2345796/2345796 [00:49<00:00, 47402.31it/s] \n",
      "100%|██████████| 2345796/2345796 [00:59<00:00, 39725.41it/s] \n"
     ]
    }
   ],
   "source": [
    "shared_words_t, total_words_t = findSharedWords(question1_token_t, question2_token_t)\n",
    "\n",
    "shared_weights_t, total_weights_t = findSharedWeights(shared_words_t, total_words_t)\n",
    "\n",
    "weights_t = getWeights(shared_weights_t, total_weights_t)\n",
    "\n",
    "X_t = pd.DataFrame(weights_t, columns=['shared_weights'])"
   ]
  },
  {
   "cell_type": "code",
   "execution_count": 68,
   "metadata": {
    "collapsed": true
   },
   "outputs": [],
   "source": [
    "shared_count_t = [len(x) for x in shared_words_t]\n",
    "\n",
    "shared_count_cut_t = [x if x < 10 else 10 for x in shared_count_t]\n",
    "\n",
    "shared_count_scaled_t = MinMaxScaler().fit_transform(np.array(shared_count_cut_t, dtype='float64').reshape(-1, 1))\n",
    "\n",
    "X_t['shared_count_scaled'] = shared_count_scaled_t.reshape(-1, 1)\n",
    "\n",
    "del shared_count_t, shared_count_cut_t, shared_count_scaled_t"
   ]
  },
  {
   "cell_type": "code",
   "execution_count": 69,
   "metadata": {
    "collapsed": true
   },
   "outputs": [],
   "source": [
    "question1_len_t = [len(x) for x in question1_token_t]\n",
    "question2_len_t = [len(x) for x in question2_token_t]\n",
    "\n",
    "len_dif_t = []\n",
    "\n",
    "for i in range(len(question1_len_t)):\n",
    "    len_dif_t.append(abs(question1_len_t[i] - question2_len_t[i]))\n",
    "    \n",
    "len_dif_cut_t = [5 if i > 5 else i for i in len_dif_t]\n",
    "len_dif_cut_t = np.array(len_dif_cut_t).reshape(-1, 1)\n",
    "\n",
    "len_dif_scaled_t = MinMaxScaler().fit_transform(len_dif_cut_t)\n",
    "\n",
    "X_t['len_dif'] = len_dif_scaled_t\n",
    "\n",
    "del len_dif_t, len_dif_cut_t"
   ]
  },
  {
   "cell_type": "code",
   "execution_count": 70,
   "metadata": {},
   "outputs": [
    {
     "name": "stderr",
     "output_type": "stream",
     "text": [
      "100%|██████████| 2345796/2345796 [17:10<00:00, 2277.30it/s]\n"
     ]
    },
    {
     "data": {
      "text/html": [
       "<div>\n",
       "<style>\n",
       "    .dataframe thead tr:only-child th {\n",
       "        text-align: right;\n",
       "    }\n",
       "\n",
       "    .dataframe thead th {\n",
       "        text-align: left;\n",
       "    }\n",
       "\n",
       "    .dataframe tbody tr th {\n",
       "        vertical-align: top;\n",
       "    }\n",
       "</style>\n",
       "<table border=\"1\" class=\"dataframe\">\n",
       "  <thead>\n",
       "    <tr style=\"text-align: right;\">\n",
       "      <th></th>\n",
       "      <th>shared_weights</th>\n",
       "      <th>shared_count_scaled</th>\n",
       "      <th>len_dif</th>\n",
       "      <th>z_match_ratio</th>\n",
       "    </tr>\n",
       "  </thead>\n",
       "  <tbody>\n",
       "    <tr>\n",
       "      <th>0</th>\n",
       "      <td>0.343711</td>\n",
       "      <td>0.7</td>\n",
       "      <td>1.0</td>\n",
       "      <td>0.384000</td>\n",
       "    </tr>\n",
       "    <tr>\n",
       "      <th>1</th>\n",
       "      <td>0.678926</td>\n",
       "      <td>0.8</td>\n",
       "      <td>0.4</td>\n",
       "      <td>0.440367</td>\n",
       "    </tr>\n",
       "    <tr>\n",
       "      <th>2</th>\n",
       "      <td>0.732256</td>\n",
       "      <td>0.6</td>\n",
       "      <td>0.6</td>\n",
       "      <td>0.584270</td>\n",
       "    </tr>\n",
       "    <tr>\n",
       "      <th>3</th>\n",
       "      <td>0.352562</td>\n",
       "      <td>0.2</td>\n",
       "      <td>0.0</td>\n",
       "      <td>0.545455</td>\n",
       "    </tr>\n",
       "    <tr>\n",
       "      <th>4</th>\n",
       "      <td>1.000000</td>\n",
       "      <td>0.4</td>\n",
       "      <td>0.2</td>\n",
       "      <td>0.677419</td>\n",
       "    </tr>\n",
       "  </tbody>\n",
       "</table>\n",
       "</div>"
      ],
      "text/plain": [
       "   shared_weights  shared_count_scaled  len_dif  z_match_ratio\n",
       "0        0.343711                  0.7      1.0       0.384000\n",
       "1        0.678926                  0.8      0.4       0.440367\n",
       "2        0.732256                  0.6      0.6       0.584270\n",
       "3        0.352562                  0.2      0.0       0.545455\n",
       "4        1.000000                  0.4      0.2       0.677419"
      ]
     },
     "execution_count": 70,
     "metadata": {},
     "output_type": "execute_result"
    }
   ],
   "source": [
    "z_match_ratio_t = []\n",
    "\n",
    "for i in tqdm(range(len(data_test))):\n",
    "    z_match_ratio_t.append(diff_ratios(data_test.question1[i], data_test.question2[i]))\n",
    "                         \n",
    "X_t['z_match_ratio'] = z_match_ratio_t\n",
    "\n",
    "X_t.head()"
   ]
  },
  {
   "cell_type": "code",
   "execution_count": 71,
   "metadata": {
    "collapsed": true
   },
   "outputs": [],
   "source": [
    "dtest = xgb.DMatrix(X_t)\n",
    "y_t = bst.predict(dtest)"
   ]
  },
  {
   "cell_type": "code",
   "execution_count": 72,
   "metadata": {
    "collapsed": true
   },
   "outputs": [],
   "source": [
    "y_pred = pd.DataFrame()\n",
    "y_pred['test_id'] = range(y_t.shape[0])\n",
    "y_pred['is_duplicate'] = y_t"
   ]
  },
  {
   "cell_type": "code",
   "execution_count": 73,
   "metadata": {
    "collapsed": true
   },
   "outputs": [],
   "source": [
    "y_pred.to_csv('sub/final', index=False)"
   ]
  },
  {
   "cell_type": "code",
   "execution_count": 74,
   "metadata": {},
   "outputs": [
    {
     "data": {
      "image/png": "[encoded data removed]",
      "text/plain": [
       "<IPython.core.display.Image object>"
      ]
     },
     "execution_count": 74,
     "metadata": {},
     "output_type": "execute_result"
    }
   ],
   "source": [
    "### Kagggle scroe \n",
    "from IPython.display import Image\n",
    "Image(\"img/kaggle.png\")\n"
   ]
  },
  {
   "cell_type": "markdown",
   "metadata": {},
   "source": [
    "### Justification"
   ]
  },
  {
   "cell_type": "markdown",
   "metadata": {},
   "source": [
    "The **final score** obtained in the Kaggle platform is **0.39205**, which is an improvement over the benchmark of **0.55411**. This means that when tested with a totally different input, This value should be improved in order to make significantly good recommendations."
   ]
  },
  {
   "cell_type": "markdown",
   "metadata": {},
   "source": [
    "## V. Conclusion"
   ]
  },
  {
   "cell_type": "markdown",
   "metadata": {},
   "source": [
    "### Reflection"
   ]
  },
  {
   "cell_type": "markdown",
   "metadata": {},
   "source": [
    "For this project, I started analyzing the basic aspects of the dataset, and getting a naive predictor to use as a benchmark and see if my model would represent an improvement. After this, I preprocessed the training data, and tested that each new feature showed graphically a different distribution between duplicate and non duplicate pair of questions.\n",
    "Having obtained this, I compared the three models which I believed could be useful for this problem. Given that performances were similar when tested with default parameters, I used GridSearchCV for tunning each of them, and comparing the new results. I chose XGBoost for it's good performance, and it's fast training.\n",
    "I finally preprocessed the testing data, used my chosen model for prediction, and tested the performance within the Kaggle framework. I got a better result than the benchmark."
   ]
  },
  {
   "cell_type": "markdown",
   "metadata": {},
   "source": [
    "I found this problem to be very interesting, given it's high complexity. Natural language processing is involved,  The fact that there are a lot of different ways to ask the same question, some of them very different between each other, makes this problem a very hard one for obtaining a good result. Also, it's not easy to use neural networks in these kind of problems, because each word could be seen as a feature and there are thousands of them."
   ]
  },
  {
   "cell_type": "markdown",
   "metadata": {},
   "source": [
    "I think that my model could serve as a first approach for analyzing a problem like this one."
   ]
  },
  {
   "cell_type": "markdown",
   "metadata": {},
   "source": [
    "### Improvement"
   ]
  },
  {
   "cell_type": "markdown",
   "metadata": {},
   "source": [
    "I think there are different ways to improved this algorithm. For example, every word should be contrasted to it's synonyms, in order to group together words that are now consider different but refer to the same. Another improvement could be giving words that start with capital letters a greater weight for TF-IDF analysis.\n",
    "\n",
    "The problem could also be treated from a different approach, which I would have used if I knew how. As seen in this paper (https://web.stanford.edu/class/cs224n/reports/2759336.pdf), Convolutional Neural Networks can be used for sentence classification. I think that this approach can yield much better results, given the fact that deep learning catches much better aspects where humans are good at, like it does with image recognition."
   ]
  }
 ],
 "metadata": {
  "kernelspec": {
   "display_name": "Python 2",
   "language": "python",
   "name": "python2"
  },
  "language_info": {
   "codemirror_mode": {
    "name": "ipython",
    "version": 2
   },
   "file_extension": ".py",
   "mimetype": "text/x-python",
   "name": "python",
   "nbconvert_exporter": "python",
   "pygments_lexer": "ipython2",
   "version": "2.7.13"
  },
  "widgets": {
   "application/vnd.jupyter.widget-state+json": {
    "state": {},
    "version_major": 1,
    "version_minor": 0
   }
  }
 },
 "nbformat": 4,
 "nbformat_minor": 2
}
